{
 "cells": [
  {
   "cell_type": "code",
   "execution_count": 22,
   "id": "f3b9faa8-564a-41e4-b391-d603d8f1f263",
   "metadata": {},
   "outputs": [
    {
     "name": "stdout",
     "output_type": "stream",
     "text": [
      "The richest person is éˆ´æœ¨ çŸ¥å®Ÿ with a net worth of 196 billion.\n",
      "Number of people without an email is 10\n"
     ]
    }
   ],
   "source": [
    "import pandas as pd\n",
    "\n",
    "df = pd.read_csv('assignment1.csv',encoding='utf-8')\n",
    "\n",
    "\n",
    "#1. Who is the richest in this list?\n",
    "def clean_net_worth(value):\n",
    "    value = value.replace('$', '').replace('billion', '').strip()\n",
    "    return int(value)\n",
    "    \n",
    "\n",
    "df['net_worth'] = df['Net Worth'].apply(clean_net_worth)\n",
    "\n",
    "richest_person = df.loc[df['net_worth'].idxmax()]\n",
    "\n",
    "print(f\"The richest person is {richest_person['Name']} with a net worth of {richest_person['net_worth']} billion.\")\n",
    "\n",
    "#2. How many people are without an email?\n",
    "\n",
    "no_email = df['Email'].isnull().sum()\n",
    "print(f\"Number of people without an email is {no_email}\") \n",
    "\n",
    "#3. How many people are without phone numbers?\n",
    "\n",
    "\n"
   ]
  },
  {
   "cell_type": "code",
   "execution_count": null,
   "id": "fc9597a7-8b11-46c3-95fc-d1c0e34b5d67",
   "metadata": {},
   "outputs": [],
   "source": []
  },
  {
   "cell_type": "code",
   "execution_count": null,
   "id": "17e43f49-6c98-4972-aaf6-5725023e6be3",
   "metadata": {},
   "outputs": [],
   "source": []
  }
 ],
 "metadata": {
  "kernelspec": {
   "display_name": "Python 3 (ipykernel)",
   "language": "python",
   "name": "python3"
  },
  "language_info": {
   "codemirror_mode": {
    "name": "ipython",
    "version": 3
   },
   "file_extension": ".py",
   "mimetype": "text/x-python",
   "name": "python",
   "nbconvert_exporter": "python",
   "pygments_lexer": "ipython3",
   "version": "3.10.14"
  }
 },
 "nbformat": 4,
 "nbformat_minor": 5
}
